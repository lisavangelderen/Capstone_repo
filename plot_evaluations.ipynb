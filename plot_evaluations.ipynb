{
 "cells": [
  {
   "cell_type": "code",
   "execution_count": 1,
   "id": "essential-portal",
   "metadata": {},
   "outputs": [],
   "source": [
    "import pandas as pd\n",
    "import matplotlib.pyplot as plt"
   ]
  },
  {
   "cell_type": "code",
   "execution_count": 4,
   "id": "seeing-regulation",
   "metadata": {},
   "outputs": [],
   "source": [
    "Cartpole_DQN_play = pd.read_csv('data/Cartpole_DQN_play_scores.csv',encoding = \"Latin-1\")\n",
    "Cartpole_DQN_train = pd.read_csv('data/Cartpole_DQN_train_scores.csv',encoding = \"Latin-1\")\n",
    "\n",
    "Cartpole_GA_play = pd.read_csv('data/Cartpole_GA_play_scores.csv',encoding = \"Latin-1\")\n",
    "Cartpole_GA_train = pd.read_csv('data/Cartpole_GA_train_scores.csv',encoding = \"Latin-1\")\n",
    "\n",
    "Cartpole_NS_play = pd.read_csv('data/Cartpole_NS_play_scores.csv',encoding = \"Latin-1\")\n",
    "Cartpole_NS_train = pd.read_csv('data/Cartpole_NS_train_scores.csv',encoding = \"Latin-1\")\n",
    "\n",
    "#Cartpole_DQN_extended_play = pd.read_csv('test.csv',encoding = \"Latin-1\")\n",
    "#Cartpole_DQN_extended_train = pd.read_csv('test.csv',encoding = \"Latin-1\")\n",
    "\n",
    "Lunar_DQN_play = pd.read_csv('data/LUNAR_DQN_play_scores.csv',encoding = \"Latin-1\")\n",
    "Lunar_DQN_train = pd.read_csv('data/LUNAR_DQN_train_scores.csv',encoding = \"Latin-1\")\n",
    "\n",
    "Lunar_GA_play = pd.read_csv('data/LUNAR_GA_play_scores.csv',encoding = \"Latin-1\")\n",
    "Lunar_GA_train = pd.read_csv('data/LUNAR_GA_train_scores.csv',encoding = \"Latin-1\")\n",
    "\n",
    "Lunar_NS_play = pd.read_csv('data/LUNAR_NS_play_scores.csv',encoding = \"Latin-1\")\n",
    "Lunar_NS_train = pd.read_csv('data/LUNAR_NS_train_scores.csv',encoding = \"Latin-1\")\n",
    "\n",
    "#Lunar_DQN_extended_play = pd.read_csv('test.csv',encoding = \"Latin-1\")\n",
    "#Lunar_DQN_extended_train = pd.read_csv('test.csv',encoding = \"Latin-1\")"
   ]
  },
  {
   "cell_type": "code",
   "execution_count": 9,
   "id": "elder-frontier",
   "metadata": {},
   "outputs": [],
   "source": [
    "def plot_evaluation_scores(df, episodes, score, title):\n",
    "        x = df[episodes] #episodes\n",
    "        y = df[score] #scores\n",
    "        \n",
    "        plt.plot(x, y, label=\"score per run\")\n",
    "        plt.title(title)\n",
    "        plt.xlabel(\"Runs\")\n",
    "        plt.ylabel(\"Score\")\n",
    "        plt.savefig(\"img/\" + title)\n",
    "        plt.close(\"all\")"
   ]
  },
  {
   "cell_type": "code",
   "execution_count": 10,
   "id": "metric-import",
   "metadata": {},
   "outputs": [],
   "source": [
    "plot_evaluation_scores(Cartpole_DQN_play, \"episode\", \"score\", \"Cartpole_DQN_play_plot\")\n",
    "plot_evaluation_scores(Cartpole_DQN_train, \"episode\", \"score\",\"Cartpole_DQN_train_plot\")\n",
    "\n",
    "plot_evaluation_scores(Cartpole_GA_play, \"attempt\", \"score\", \"Cartpole_GA_play_plot\")\n",
    "plot_evaluation_scores(Cartpole_GA_train, \"generation\", \"average fitness\", \"Cartpole_GA_train_plot\")\n",
    "\n",
    "plot_evaluation_scores(Cartpole_NS_play, \"attempt\", \"score\", \"Cartpole_NS_play_plot\")\n",
    "plot_evaluation_scores(Cartpole_NS_train, \"generation\", \"average fitness\", \"Cartpole_NS_train_plot\")\n",
    "\n",
    "#plot_evaluation_scores(Cartpole_DQN_extended_play,\"episode\", \"score\", \"Cartpole_DQN_extended_play_plot\")\n",
    "#plot_evaluation_scores(Cartpole_DQN_extended_train, \"episode\", \"score\",\"Cartpole_DQN_extended_train_plot\")\n",
    "\n",
    "plot_evaluation_scores(Lunar_DQN_play,\"episode\", \"score\", \"Lunar_DQN_play_plot\")\n",
    "plot_evaluation_scores(Lunar_DQN_train,\"episode\", \"score\", \"Lunar_DQN_train_plot\")\n",
    "\n",
    "plot_evaluation_scores(Lunar_GA_play, \"attempt\", \"score\", \"Lunar_GA_play_plot\")\n",
    "plot_evaluation_scores(Lunar_GA_train, \"generation\", \"average fitness\", \"Lunar_GA_train_plot\")\n",
    "\n",
    "plot_evaluation_scores(Lunar_NS_play, \"attempt\",\"score\", \"Lunar_NS_play_plot\")\n",
    "plot_evaluation_scores(Lunar_NS_train, \"generation\",\"average fitness\", \"Lunar_NS_train_plot\")\n",
    "\n",
    "#plot_evaluation_scores(Lunar_DQN_extended_play,\"episode\", \"score\", \"Lunar_DQN_extended_play_plot\")\n",
    "#plot_evaluation_scores(Lunar_DQN_extended_train, \"episode\", \"score\",\"Lunar_DQN_extended_train_plot\")"
   ]
  },
  {
   "cell_type": "code",
   "execution_count": null,
   "id": "equivalent-ethnic",
   "metadata": {},
   "outputs": [],
   "source": []
  }
 ],
 "metadata": {
  "kernelspec": {
   "display_name": "Python 3",
   "language": "python",
   "name": "python3"
  },
  "language_info": {
   "codemirror_mode": {
    "name": "ipython",
    "version": 3
   },
   "file_extension": ".py",
   "mimetype": "text/x-python",
   "name": "python",
   "nbconvert_exporter": "python",
   "pygments_lexer": "ipython3",
   "version": "3.8.5"
  }
 },
 "nbformat": 4,
 "nbformat_minor": 5
}
