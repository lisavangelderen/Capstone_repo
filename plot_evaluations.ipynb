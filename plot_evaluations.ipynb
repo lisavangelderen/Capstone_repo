{
 "cells": [
  {
   "cell_type": "code",
   "execution_count": 1,
   "id": "essential-portal",
   "metadata": {},
   "outputs": [],
   "source": [
    "import pandas as pd\n",
    "import matplotlib.pyplot as plt"
   ]
  },
  {
   "cell_type": "code",
   "execution_count": 2,
   "id": "seeing-regulation",
   "metadata": {},
   "outputs": [],
   "source": [
    "Cartpole_DQN_play = pd.read_csv('Cartpole_DQN_play_scores.csv',encoding = \"Latin-1\")\n",
    "Cartpole_DQN_train = pd.read_csv('Cartpole_DQN_train_scores.csv',encoding = \"Latin-1\")\n",
    "\n",
    "Cartpole_GA_play = pd.read_csv('Cartpole_GA_play_scores.csv',encoding = \"Latin-1\")\n",
    "Cartpole_GA_train = pd.read_csv('Cartpole_GA_train_scores.csv',encoding = \"Latin-1\")\n",
    "\n",
    "#Maze_DQN_play = pd.read_csv('test.csv',encoding = \"Latin-1\")\n",
    "#Maze_DQN_train = pd.read_csv('test.csv',encoding = \"Latin-1\")\n",
    "\n",
    "#Maze_DQN_extended_play = pd.read_csv('test.csv',encoding = \"Latin-1\")\n",
    "#Maze_DQN_extended_train = pd.read_csv('test.csv',encoding = \"Latin-1\")\n",
    "\n",
    "#Maze_GA_play = pd.read_csv('test.csv',encoding = \"Latin-1\")\n",
    "#Maze_GA_train = pd.read_csv('test.csv',encoding = \"Latin-1\")\n",
    "\n",
    "#Maze_NS_play = pd.read_csv('test.csv',encoding = \"Latin-1\")\n",
    "#Maze_NS_train = pd.read_csv('test.csv',encoding = \"Latin-1\")"
   ]
  },
  {
   "cell_type": "code",
   "execution_count": 15,
   "id": "elder-frontier",
   "metadata": {},
   "outputs": [],
   "source": [
    "def plot_evaluation_scores(df, episodes, score, title):\n",
    "        x = df[episodes] #episodes\n",
    "        y = df[score] #scores\n",
    "        \n",
    "        plt.plot(x, y, label=\"score per run\")\n",
    "        plt.title(title)\n",
    "        plt.xlabel(\"Runs\")\n",
    "        plt.ylabel(\"Score\")\n",
    "        plt.savefig(title)\n",
    "        plt.close(\"all\")"
   ]
  },
  {
   "cell_type": "code",
   "execution_count": 16,
   "id": "metric-import",
   "metadata": {},
   "outputs": [],
   "source": [
    "plot_evaluation_scores(Cartpole_DQN_play, \"episode\", \"score\", \"Cartpole_DQN_play\")\n",
    "plot_evaluation_scores(Cartpole_DQN_train, \"episode\", \"score\",\"Cartpole_DQN_train\")\n",
    "\n",
    "plot_evaluation_scores(Cartpole_GA_play, \"Generation\", \"Score\", \"Cartpole_GA_play\")\n",
    "plot_evaluation_scores(Cartpole_GA_train, \"Generation\", \"Max. Fitness\",\"Cartpole_GA_train\")\n",
    "\n",
    "#plot_evaluation_scores(Maze_DQN_play, \"Maze_DQN_play\")\n",
    "#plot_evaluation_scores(Maze_DQN_train, \"Maze_DQN_train\")\n",
    "\n",
    "#plot_evaluation_scores(Maze_DQN_extended_play, \"Maze_DQN_extended_play\")\n",
    "#plot_evaluation_scores(Maze_DQN_extended_train, \"Maze_DQN_extended_train\")\n",
    "\n",
    "#plot_evaluation_scores(Maze_GA_play, \"Maze_GA_play\")\n",
    "#plot_evaluation_scores(Maze_GA_train, \"Maze_GA_train\")\n",
    "\n",
    "#plot_evaluation_scores(Maze_NS_play, \"Maze_NS_play\")\n",
    "#plot_evaluation_scores(Maze_NS_train, \"Maze_NS_train\")"
   ]
  },
  {
   "cell_type": "code",
   "execution_count": null,
   "id": "equivalent-ethnic",
   "metadata": {},
   "outputs": [],
   "source": []
  }
 ],
 "metadata": {
  "kernelspec": {
   "display_name": "Python 3",
   "language": "python",
   "name": "python3"
  },
  "language_info": {
   "codemirror_mode": {
    "name": "ipython",
    "version": 3
   },
   "file_extension": ".py",
   "mimetype": "text/x-python",
   "name": "python",
   "nbconvert_exporter": "python",
   "pygments_lexer": "ipython3",
   "version": "3.8.5"
  }
 },
 "nbformat": 4,
 "nbformat_minor": 5
}
